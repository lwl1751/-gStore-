{
 "cells": [
  {
   "cell_type": "markdown",
   "metadata": {},
   "source": [
    "#### 1. 定义相关函数，获取数据库基本信息"
   ]
  },
  {
   "cell_type": "code",
   "execution_count": 1,
   "metadata": {},
   "outputs": [],
   "source": [
    "import requests\n",
    "import json\n",
    "\n",
    "# 定义请求的URL\n",
    "url = \"http://cloud.gstore.cn/api\"\n",
    "\n",
    "# 定义AccessKeyID和AccessSecret\n",
    "access_key_id = \"00b10697151c4791bb55beee95d136bd\"\n",
    "access_secret = \"65194C5F25B1CE0C90011D34ACBED4EC\"\n",
    "\n",
    "# 定义请求头\n",
    "headers = {\n",
    "    \"Content-Type\": \"application/json\"\n",
    "}\n",
    "\n",
    "# 根据给定的 sparq 语句获取对应的输出\n",
    "def sql(sparql):\n",
    "    params = {\n",
    "        \"action\": \"queryDB\",\n",
    "        'dbName': '金融数据库',\n",
    "        'accesskeyid': access_key_id,\n",
    "        'access_secret': access_secret,\n",
    "        'sparql': sparql\n",
    "    }\n",
    "\n",
    "    json_params = json.dumps(params)\n",
    "    response = requests.post(url, headers=headers, data=json_params).json()\n",
    "    return response\n",
    "\n",
    "# 判断某一公司实体是否存在于数据库中\n",
    "def entity_exist(company):\n",
    "    ask = f'''\n",
    "    ASK\n",
    "    WHERE {{\n",
    "      <file:///F:/d2r-server-0.7/holder8.nt#holder_copy/{company}> ?p ?o .\n",
    "    }}\n",
    "    '''\n",
    "    response = sql(ask)\n",
    "    return response['data']['results']['bindings'][0]['_askResult']['value'] == 'true'"
   ]
  },
  {
   "cell_type": "code",
   "execution_count": 2,
   "metadata": {},
   "outputs": [
    {
     "name": "stdout",
     "output_type": "stream",
     "text": [
      "实体数量16652， 三元组数量21440\n"
     ]
    }
   ],
   "source": [
    "# 获取数据库基本信息\n",
    "params = {\n",
    "    \"action\": \"monitorDB\",\n",
    "    'dbName': '金融数据库',\n",
    "    'accesskeyid': access_key_id,\n",
    "    'access_secret': access_secret\n",
    "}\n",
    "\n",
    "json_params = json.dumps(params)\n",
    "response = requests.post(url, headers=headers, data=json_params).json()\n",
    "entitynum = response['entityNum'] \n",
    "triplenum = response['tripleNum']\n",
    "print(f'实体数量{entitynum}， 三元组数量{triplenum}')"
   ]
  },
  {
   "cell_type": "code",
   "execution_count": 3,
   "metadata": {},
   "outputs": [
    {
     "name": "stdout",
     "output_type": "stream",
     "text": [
      "安邦财产保险股份有限公司\n",
      "招商银行股份有限公司\n",
      "和谐健康保险股份有限公司\n"
     ]
    }
   ],
   "source": [
    "# 获取实体构成的列表\n",
    "ask_1 = '''SELECT DISTINCT ?entity\n",
    "WHERE {\n",
    "  ?entity ?p ?o .\n",
    "}\n",
    "'''\n",
    "response = sql(ask_1)\n",
    "entity_list = [binding['entity']['value'][49:] for binding in response['data']['results']['bindings'][2:]]\n",
    "for i in range(3):\n",
    "    print(entity_list[i]) # 输出列表中前 3 个公司"
   ]
  },
  {
   "cell_type": "markdown",
   "metadata": {},
   "source": [
    "#### 2. 任务1：查询两个公司之间的关联路径（n-hop）, n>1"
   ]
  },
  {
   "cell_type": "code",
   "execution_count": 45,
   "metadata": {},
   "outputs": [],
   "source": [
    "from graphviz import Digraph\n",
    "import matplotlib.colors as mcolors\n",
    "\n",
    "# 两跳查询\n",
    "def query_2_hop(entity_1,entity_2):\n",
    "    if not entity_exist(entity_1):\n",
    "        print(f'{entity_1}不在数据库中')\n",
    "        return []\n",
    "    if not entity_exist(entity_2):\n",
    "        print(f'{entity_2}不在数据库中')\n",
    "        return []\n",
    "\n",
    "    ask = f'''\n",
    "    SELECT DISTINCT ?start_entity ?mid_entity ?end_entity\n",
    "    WHERE {{\n",
    "    {{\n",
    "        ?start_entity ?p1 ?mid_entity .\n",
    "        ?mid_entity ?p2 ?end_entity .\n",
    "        FILTER (?start_entity = <file:///F:/d2r-server-0.7/holder8.nt#holder_copy/{entity_1}> &&\n",
    "                ?end_entity = <file:///F:/d2r-server-0.7/holder8.nt#holder_copy/{entity_2}>)\n",
    "    }} UNION {{\n",
    "        ?start_entity ?p1 ?mid_entity .\n",
    "        ?mid_entity ?p2 ?end_entity .\n",
    "        FILTER (?start_entity = <file:///F:/d2r-server-0.7/holder8.nt#holder_copy/{entity_2}> &&\n",
    "                ?end_entity = <file:///F:/d2r-server-0.7/holder8.nt#holder_copy/{entity_1}>)\n",
    "    }}\n",
    "    }}\n",
    "    '''\n",
    "    response = sql(ask)\n",
    "    res = [(binding['start_entity']['value'][49:],binding['mid_entity']['value'][49:],binding['end_entity']['value'][49:]) for binding in response['data']['results']['bindings']]\n",
    "    return res\n",
    "\n",
    "# n跳查询，n > 1\n",
    "def query_n_hop(entity_1, entity_2,n = 3):\n",
    "    if not entity_exist(entity_1):\n",
    "        print(f'{entity_1}不在数据库中')\n",
    "        return []\n",
    "    if not entity_exist(entity_2):\n",
    "        print(f'{entity_2}不在数据库中')\n",
    "        return []\n",
    "\n",
    "    # 构造查询语句\n",
    "    query_con = ''\n",
    "   # 构造每一跳的模式\n",
    "    for i in range(1, n+1):\n",
    "        if i == 1:\n",
    "            query_con += f\"  ?start_entity ?p1 ?mid1_entity .\\n\"\n",
    "        elif i == n:\n",
    "            query_con += f\"  ?mid{i-1}_entity ?p{i} ?end_entity .\\n\"\n",
    "        else:\n",
    "            query_con += f\"  ?mid{i-1}_entity ?p{i} ?mid{i}_entity .\\n\"\n",
    "    \n",
    "    mid_entity_list = [f'mid{i}_entity' for i in range(1, n)] # 中间变量列表\n",
    "    query = f'''\n",
    "    SELECT DISTINCT {' '.join(['?start_entity'] + ['?' + e for e in mid_entity_list] + ['?end_entity'])}\n",
    "    WHERE {{\n",
    "        {{  \n",
    "            {query_con}\n",
    "            FILTER (?start_entity = <file:///F:/d2r-server-0.7/holder8.nt#holder_copy/{entity_1}> &&\n",
    "                    ?end_entity = <file:///F:/d2r-server-0.7/holder8.nt#holder_copy/{entity_2}>)\n",
    "        }}\n",
    "        UNION\n",
    "        {{  \n",
    "            {query_con}\n",
    "            FILTER (?start_entity = <file:///F:/d2r-server-0.7/holder8.nt#holder_copy/{entity_2}> &&\n",
    "                    ?end_entity = <file:///F:/d2r-server-0.7/holder8.nt#holder_copy/{entity_1}>)\n",
    "        }}\n",
    "    }}\n",
    "    '''\n",
    "\n",
    "    response = sql(query)\n",
    "    res = []\n",
    "    for binding in response['data']['results']['bindings']:\n",
    "        item = (binding['start_entity']['value'][49:],) + tuple(binding[e]['value'][49:] for e in mid_entity_list[:n]) + (binding['end_entity']['value'][49:],)\n",
    "        res.append(tuple(item))\n",
    "    return res\n",
    "\n",
    "# 生成颜色渐变列表\n",
    "def generate_color_gradient(num_colors):\n",
    "    colors = list(mcolors.CSS4_COLORS.values())\n",
    "    bright_colors = [color for color in colors if \"black\" not in color.lower() and \"dark\" not in color.lower()]\n",
    "    return bright_colors[:num_colors]\n",
    "\n",
    "# 图形化表示\n",
    "def format_as_graph(results):\n",
    "    max_hops = max(len(result) for result in results)\n",
    "    colors = generate_color_gradient(max_hops)\n",
    "\n",
    "    dot = Digraph(comment='N-hop Query Results')\n",
    "    \n",
    "    drawn_nodes = set()\n",
    "    for path_index, result in enumerate(results):\n",
    "        path_label = f\" {path_index + 1}\"\n",
    "        for i in range(len(result) - 1):\n",
    "            # 根据层级选择颜色\n",
    "            start_node_color = colors[i % len(colors)]\n",
    "            end_node_color = colors[(i + 1) % len(colors)]\n",
    "\n",
    "            # 添加起始节点\n",
    "            if result[i] not in drawn_nodes:\n",
    "                dot.node(result[i], style='filled', color=start_node_color, fontsize='12')\n",
    "                drawn_nodes.add(result[i])\n",
    "            \n",
    "            # 添加结束节点\n",
    "            if result[i + 1] not in drawn_nodes:\n",
    "                dot.node(result[i + 1], style='filled', color=end_node_color, fontsize='12')\n",
    "                drawn_nodes.add(result[i + 1])\n",
    "            \n",
    "            # 添加带有路径序号的边\n",
    "            dot.edge(result[i], result[i + 1], label=path_label)\n",
    "    \n",
    "    return dot"
   ]
  },
  {
   "cell_type": "code",
   "execution_count": 5,
   "metadata": {},
   "outputs": [
    {
     "name": "stdout",
     "output_type": "stream",
     "text": [
      "('招商局轮船股份有限公司', '深圳市招融投资控股有限公司', '招商银行股份有限公司')\n",
      "('招商局轮船股份有限公司', '深圳市晏清投资发展有限公司', '招商银行股份有限公司')\n",
      "****\n",
      "('招商局轮船股份有限公司', '深圳市招融投资控股有限公司', '深圳市楚源投资发展有限公司', '招商银行股份有限公司')\n",
      "('招商局轮船股份有限公司', '深圳市招融投资控股有限公司', '深圳市晏清投资发展有限公司', '招商银行股份有限公司')\n",
      "('招商局轮船股份有限公司', '深圳市晏清投资发展有限公司', '深圳市楚源投资发展有限公司', '招商银行股份有限公司')\n"
     ]
    }
   ],
   "source": [
    "res_1 = query_2_hop('招商局轮船股份有限公司', '招商银行股份有限公司')\n",
    "res_2 = query_n_hop('招商局轮船股份有限公司', '招商银行股份有限公司',n=3)\n",
    "for i in range(len(res_1)):\n",
    "    print(res_1[i])\n",
    "print('****')\n",
    "for i in range(len(res_2)):\n",
    "    print(res_2[i])"
   ]
  },
  {
   "cell_type": "code",
   "execution_count": 38,
   "metadata": {},
   "outputs": [
    {
     "data": {
      "text/plain": [
       "'n_hop_query_results.png'"
      ]
     },
     "execution_count": 38,
     "metadata": {},
     "output_type": "execute_result"
    }
   ],
   "source": [
    "dot = format_as_graph(res_2)\n",
    "dot.render('n_hop_query_results', format='png', cleanup=True)"
   ]
  },
  {
   "cell_type": "markdown",
   "metadata": {},
   "source": [
    "#### 3. 任务2:实现多层股权的穿透式查询，可以根据指定层数获得对应层级的股东"
   ]
  },
  {
   "cell_type": "code",
   "execution_count": 69,
   "metadata": {},
   "outputs": [],
   "source": [
    "# 单层持股查询\n",
    "def query_1_hop(entity):\n",
    "  ask = f'''SELECT DISTINCT ?company\n",
    "  WHERE {{\n",
    "    <file:///F:/d2r-server-0.7/holder8.nt#holder_copy/{entity}> ?p ?company .\n",
    "  }}\n",
    "  '''\n",
    "  res = [binding['company']['value'][49:] for binding in sql(ask)['data']['results']['bindings']]\n",
    "  return res\n",
    "\n",
    "# 多层持股查询\n",
    "def query_multi_holder(entity,n = 3):\n",
    "  res = [{entity: None}]\n",
    "  visited = set()  # 初始化空的已访问公司集合\n",
    "  visited.add(entity)\n",
    "  current_list = [entity]  # 初始化待访问公司列表\n",
    "\n",
    "  for _ in range(n):\n",
    "      current_dict = {}  # 使用字典记录每层的公司及其上一层公司\n",
    "      for query_entity in current_list:\n",
    "          query_res = query_1_hop(query_entity)\n",
    "          for result_entity in query_res:\n",
    "              if result_entity not in visited:\n",
    "                  current_dict[result_entity] = query_entity\n",
    "                  visited.add(result_entity)\n",
    "      current_list = list(current_dict.keys())\n",
    "      res.append(current_dict)\n",
    "  return res\n",
    "\n",
    "# 图形化表示\n",
    "def draw_tree(res):\n",
    "    num_levels = len(res)\n",
    "    colors = generate_color_gradient(num_levels)\n",
    "\n",
    "    dot = Digraph(comment='Multi-Level Holder Query Results')\n",
    "    dot.attr(size='20,30')  # 调整图形大小\n",
    "    dot.attr(rankdir='TB')  # 树形图从上到下排列\n",
    "    dot.attr('node', shape='box', style='filled', color='lightgrey', fontsize='12')  # 调整节点外观\n",
    "    dot.attr('edge', fontsize='10')  # 调整边的字体大小\n",
    "\n",
    "    drawn_nodes = set()\n",
    "    \n",
    "    for level, companies in enumerate(res):\n",
    "        color = colors[level % len(colors)]  # 根据层级选择颜色\n",
    "        for company, parent in companies.items():\n",
    "            if company not in drawn_nodes:\n",
    "                dot.node(company, style='filled', color=color, fontsize='12')\n",
    "                drawn_nodes.add(company)\n",
    "            if parent is not None and parent not in drawn_nodes:\n",
    "                dot.node(parent, style='filled', color=color, fontsize='12')\n",
    "                drawn_nodes.add(parent)\n",
    "            if parent is not None:\n",
    "                dot.edge(parent, company)\n",
    "\n",
    "    return dot"
   ]
  },
  {
   "cell_type": "code",
   "execution_count": 71,
   "metadata": {},
   "outputs": [
    {
     "name": "stdout",
     "output_type": "stream",
     "text": [
      "层级 0:\n",
      "None --> 招商局轮船股份有限公司\n",
      "层级 1:\n",
      "招商局轮船股份有限公司 --> 深圳市招融投资控股有限公司\n",
      "招商局轮船股份有限公司 --> 深圳市晏清投资发展有限公司\n",
      "招商局轮船股份有限公司 --> 兴业证券股份有限公司\n",
      "招商局轮船股份有限公司 --> 招商局资本投资有限责任公司\n",
      "层级 2:\n",
      "深圳市招融投资控股有限公司 --> 招商银行股份有限公司\n",
      "深圳市招融投资控股有限公司 --> 招商证券股份有限公司\n",
      "深圳市招融投资控股有限公司 --> 深圳市楚源投资发展有限公司\n",
      "兴业证券股份有限公司 --> 南方基金管理有限公司\n",
      "招商局资本投资有限责任公司 --> 招商局资本控股有限责任公司\n",
      "招商局资本投资有限责任公司 --> 招商局资本管理有限责任公司\n",
      "层级 3:\n",
      "招商银行股份有限公司 --> 招商基金管理有限公司\n",
      "招商证券股份有限公司 --> 东北证券股份有限公司\n",
      "招商证券股份有限公司 --> 中国南方航空股份有限公司\n",
      "招商证券股份有限公司 --> 大连冷冻机股份有限公司\n",
      "招商证券股份有限公司 --> 招商致远资本投资有限公司\n",
      "招商证券股份有限公司 --> 博时基金管理有限公司\n",
      "深圳市楚源投资发展有限公司 --> 深圳市集盛投资发展有限公司\n",
      "南方基金管理有限公司 --> 南方资本管理有限公司\n",
      "招商局资本控股有限责任公司 --> 国新国同（浙江）投资基金合伙企业（有限合伙）\n",
      "招商局资本控股有限责任公司 --> 赣州招商致远壹号股权投资合伙企业（有限合伙）\n",
      "招商局资本控股有限责任公司 --> 中新建招商股权投资有限公司\n",
      "招商局资本管理有限责任公司 --> 深圳市招商致远股权投资基金管理有限公司\n"
     ]
    }
   ],
   "source": [
    "entity = '招商局轮船股份有限公司'\n",
    "res = query_multi_holder(entity, n = 3)\n",
    "\n",
    "for level, companies in enumerate(res):\n",
    "    print(f\"层级 {level}:\")\n",
    "    for company, parent in companies.items():\n",
    "        print(f\"{parent} --> {company}\")"
   ]
  },
  {
   "cell_type": "code",
   "execution_count": 72,
   "metadata": {},
   "outputs": [
    {
     "data": {
      "text/plain": [
       "'multi_holder_tree.png'"
      ]
     },
     "execution_count": 72,
     "metadata": {},
     "output_type": "execute_result"
    }
   ],
   "source": [
    "dot = draw_tree(res)\n",
    "dot.render('multi_holder_tree', format='png', cleanup=True)"
   ]
  },
  {
   "cell_type": "markdown",
   "metadata": {},
   "source": [
    "#### 4.任务3: 实现环形持股查询，判断两家公司是否存在环形持股现象"
   ]
  },
  {
   "cell_type": "code",
   "execution_count": 73,
   "metadata": {},
   "outputs": [],
   "source": [
    "# 查找存在的环路\n",
    "def check_circular_holdings(entity_A, entity_C, n = 10):\n",
    "    # 查询从 A 出发的多层股权关系\n",
    "    result_A = query_multi_holder(entity_A, n = n)\n",
    "    merged_result_A = {k: v for level_dict in result_A for k, v in level_dict.items()}\n",
    "    # 查询从 C 出发的多层股权关系\n",
    "    result_C = query_multi_holder(entity_C, n = n)\n",
    "    merged_result_C = {k: v for level_dict in result_C for k, v in level_dict.items()}\n",
    "    \n",
    "    # 记录从 A 到 C 的路径\n",
    "    path_A_to_C = []\n",
    "    # 记录从 C 到 A 的路径\n",
    "    path_C_to_A = []\n",
    "    \n",
    "    if entity_A in merged_result_C:\n",
    "        current_entity = entity_A\n",
    "        while current_entity is not None:\n",
    "            path_C_to_A.insert(0, current_entity)\n",
    "            current_entity = merged_result_C[current_entity]\n",
    "    \n",
    "    if entity_C in merged_result_A:\n",
    "        current_entity = entity_C\n",
    "        while current_entity is not None:\n",
    "            path_A_to_C.insert(0, current_entity)\n",
    "            current_entity = merged_result_A[current_entity]\n",
    "    \n",
    "    return  path_A_to_C,path_C_to_A\n",
    "\n",
    "# 图形化表示\n",
    "def draw_circular_path(path_A_to_C, path_C_to_A):\n",
    "    colors = ['#F8B195', '#F67280', '#C06C84', '#6C5B7B', '#355C7D', '#BDC3C7', '#FFD700', '#FF8C00', '#FFB6C1', '#77DD77']\n",
    "    dot = Digraph(comment='Circular Holdings Path')\n",
    "    \n",
    "    # 绘制从 A 到 C 的路径\n",
    "    for i in range(len(path_A_to_C) - 1):\n",
    "        start_node_color = colors[i % len(colors)]\n",
    "        end_node_color = colors[(i + 1) % len(colors)]\n",
    "\n",
    "        dot.node(path_A_to_C[i], style='filled', color=start_node_color, fontsize='12')\n",
    "        dot.node(path_A_to_C[i + 1], style='filled', color=end_node_color, fontsize='12')\n",
    "        dot.edge(path_A_to_C[i], path_A_to_C[i + 1], label='1')\n",
    "\n",
    "    # 绘制从 C 到 A 的路径\n",
    "    for i in range(len(path_C_to_A) - 1):\n",
    "        start_node_color = colors[i % len(colors)]\n",
    "        end_node_color = colors[(i + 1) % len(colors)]\n",
    "\n",
    "        dot.node(path_C_to_A[i], style='filled', color=start_node_color, fontsize='12')\n",
    "        dot.node(path_C_to_A[i + 1], style='filled', color=end_node_color, fontsize='12')\n",
    "        dot.edge(path_C_to_A[i], path_C_to_A[i + 1], label='2')\n",
    "\n",
    "    return dot"
   ]
  },
  {
   "cell_type": "code",
   "execution_count": 74,
   "metadata": {},
   "outputs": [
    {
     "name": "stdout",
     "output_type": "stream",
     "text": [
      "只存在从 招商局轮船股份有限公司 到 招商银行股份有限公司 的路径：招商局轮船股份有限公司 -> 深圳市招融投资控股有限公司 -> 招商银行股份有限公司\n"
     ]
    }
   ],
   "source": [
    "# 示例用法\n",
    "entity_A = '招商局轮船股份有限公司'\n",
    "entity_C = '招商银行股份有限公司'\n",
    "path_A_to_C,path_C_to_A = check_circular_holdings(entity_A, entity_C)\n",
    "if path_A_to_C and path_C_to_A:\n",
    "    print(f\"存在环形持股路径：\")\n",
    "    print(f\"从 {entity_A} 到 {entity_C} 的路径：{' -> '.join(path_A_to_C)}\")\n",
    "    print(f\"从 {entity_C} 到 {entity_A} 的路径：{' -> '.join(path_C_to_A)}\")\n",
    "elif path_A_to_C:\n",
    "    print(f\"只存在从 {entity_A} 到 {entity_C} 的路径：{' -> '.join(path_A_to_C)}\")\n",
    "elif path_C_to_A:\n",
    "    print(f\"只存在从 {entity_C} 到 {entity_A} 的路径：{' -> '.join(path_C_to_A)}\")\n",
    "else:\n",
    "    print(f'{entity_A}与{entity_C}并不连通')"
   ]
  },
  {
   "cell_type": "code",
   "execution_count": 75,
   "metadata": {},
   "outputs": [
    {
     "data": {
      "text/plain": [
       "'circular_holdings_path_1.png'"
      ]
     },
     "execution_count": 75,
     "metadata": {},
     "output_type": "execute_result"
    }
   ],
   "source": [
    "dot = draw_circular_path(path_A_to_C, path_C_to_A)\n",
    "dot.render('circular_holdings_path_1', format='png', cleanup=True)"
   ]
  },
  {
   "cell_type": "code",
   "execution_count": 76,
   "metadata": {},
   "outputs": [
    {
     "name": "stdout",
     "output_type": "stream",
     "text": [
      "存在环形持股路径：\n",
      "从 招商证券股份有限公司 到 兖州煤业股份有限公司 的路径：招商证券股份有限公司 -> 大连冷冻机股份有限公司 -> 国泰君安证券股份有限公司 -> 上海证券交易所 -> 中国证券金融股份有限公司 -> 兖州煤业股份有限公司\n",
      "从 兖州煤业股份有限公司 到 招商证券股份有限公司 的路径：兖州煤业股份有限公司 -> 兖矿东华重工有限公司 -> 兖矿集团唐村实业有限公司 -> 上海兖矿投资有限公司 -> 光大证券股份有限公司 -> 北京同仁堂股份有限公司 -> 中投信用担保有限公司 -> 海通证券股份有限公司 -> 上海证券交易所 -> 中国证券金融股份有限公司 -> 招商证券股份有限公司\n"
     ]
    }
   ],
   "source": [
    "# 示例用法\n",
    "entity_A = '招商证券股份有限公司'\n",
    "entity_C = '兖州煤业股份有限公司'\n",
    "path_A_to_C,path_C_to_A = check_circular_holdings(entity_A, entity_C)\n",
    "if path_A_to_C and path_C_to_A:\n",
    "    print(f\"存在环形持股路径：\")\n",
    "    print(f\"从 {entity_A} 到 {entity_C} 的路径：{' -> '.join(path_A_to_C)}\")\n",
    "    print(f\"从 {entity_C} 到 {entity_A} 的路径：{' -> '.join(path_C_to_A)}\")\n",
    "elif path_A_to_C:\n",
    "    print(f\"只存在从 {entity_A} 到 {entity_C} 的路径：{' -> '.join(path_A_to_C)}\")\n",
    "elif path_C_to_A:\n",
    "    print(f\"只存在从 {entity_C} 到 {entity_A} 的路径：{' -> '.join(path_C_to_A)}\")\n",
    "else:\n",
    "    print(f'{entity_A}与{entity_C}并不连通')"
   ]
  },
  {
   "cell_type": "code",
   "execution_count": 77,
   "metadata": {},
   "outputs": [
    {
     "data": {
      "text/plain": [
       "'circular_holdings_path_2.png'"
      ]
     },
     "execution_count": 77,
     "metadata": {},
     "output_type": "execute_result"
    }
   ],
   "source": [
    "dot = draw_circular_path(path_A_to_C, path_C_to_A)\n",
    "dot.render('circular_holdings_path_2', format='png', cleanup=True)"
   ]
  }
 ],
 "metadata": {
  "kernelspec": {
   "display_name": "base",
   "language": "python",
   "name": "python3"
  },
  "language_info": {
   "codemirror_mode": {
    "name": "ipython",
    "version": 3
   },
   "file_extension": ".py",
   "mimetype": "text/x-python",
   "name": "python",
   "nbconvert_exporter": "python",
   "pygments_lexer": "ipython3",
   "version": "3.11.5"
  }
 },
 "nbformat": 4,
 "nbformat_minor": 2
}
